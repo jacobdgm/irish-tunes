{
 "cells": [
  {
   "cell_type": "code",
   "execution_count": null,
   "id": "5a02e735",
   "metadata": {},
   "outputs": [],
   "source": [
    "import pandas as pd\n",
    "import glob\n",
    "import random"
   ]
  },
  {
   "cell_type": "code",
   "execution_count": null,
   "id": "ff810978",
   "metadata": {
    "scrolled": true
   },
   "outputs": [],
   "source": [
    "filenames = glob.glob(\"*.abc\")\n",
    "\n",
    "clean_tunes = []\n",
    "for filename in filenames:\n",
    "    with open(filename, \"rb\") as f:\n",
    "        binary = f.read()\n",
    "        raw_abc = binary.decode(\"utf-8\", \"replace\")\n",
    "        raw_tunes = raw_abc.split(\"X:\")\n",
    "        raw_tunes.pop(0) # remove header\n",
    "        raw_tunes = [tune.strip() for tune in raw_tunes]\n",
    "        # remove explicit newlines\n",
    "        raw_tunes = [tune.replace(\"/\\r\", \"\\r\").replace(\"!\\r\", \"\\r\").strip(\"!\") for tune in raw_tunes]\n",
    "        raw_tunes = [tune.splitlines()[1:] for tune in raw_tunes] # [1:] to remove tune number\n",
    "        \n",
    "        for tune in raw_tunes:\n",
    "            # gather metadata about meter, type and key\n",
    "            tune_meter, tune_type, tune_key = \"\", \"\", \"\"\n",
    "            for line in tune:\n",
    "                if line[:2] == \"M:\":\n",
    "                    tune_meter = line\n",
    "                elif line[:2] == \"R:\":\n",
    "                    tune_type = line\n",
    "                elif line[:2] == \"K:\":\n",
    "                    tune_key = line\n",
    "            \n",
    "            tune_meter = tune_meter.strip()\n",
    "            tune_type = tune_type.strip()\n",
    "            tune_key = tune_key.strip()\n",
    "            \n",
    "            # drop all lines containing metadata, leaving only the abc\n",
    "            tune = [line for line in tune if \":\" not in line[:2]]\n",
    "            just_abc = \" \".join(tune)\n",
    "            \n",
    "            # question: should we drop the tune_type field, since there's a lot of variation?\n",
    "            clean_tune = \"\\n\".join((tune_meter, tune_type, tune_key, just_abc))\n",
    "            \n",
    "            clean_tunes.append(clean_tune)"
   ]
  },
  {
   "cell_type": "code",
   "execution_count": null,
   "id": "d4b5f180",
   "metadata": {},
   "outputs": [],
   "source": [
    "sample = random.sample(clean_tunes, 10)\n",
    "for tune in sample:\n",
    "    print(tune, \"\\n\\n\")"
   ]
  },
  {
   "cell_type": "code",
   "execution_count": null,
   "id": "7ea8e5db",
   "metadata": {},
   "outputs": [],
   "source": [
    " \"\"\"\n",
    "known issues:\n",
    "\n",
    "may need to add rule to filter out % symbols\n",
    "the data is still a bit messy, but putting it through ~/cleaning.ipynb might make it good enough\n",
    "the keys for many of the tunes are abbreviated, i.e. \"G\" or \"Gmaj\" rather than \"Gmajor\" etc.\n",
    " \"\"\""
   ]
  }
 ],
 "metadata": {
  "kernelspec": {
   "display_name": "Python 3",
   "language": "python",
   "name": "python3"
  },
  "language_info": {
   "codemirror_mode": {
    "name": "ipython",
    "version": 3
   },
   "file_extension": ".py",
   "mimetype": "text/x-python",
   "name": "python",
   "nbconvert_exporter": "python",
   "pygments_lexer": "ipython3",
   "version": "3.9.4"
  }
 },
 "nbformat": 4,
 "nbformat_minor": 5
}
