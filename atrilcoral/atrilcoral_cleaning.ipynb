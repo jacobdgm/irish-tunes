{
 "cells": [
  {
   "cell_type": "code",
   "execution_count": 1,
   "metadata": {},
   "outputs": [],
   "source": [
    "import pandas as pd\n",
    "import glob\n",
    "import random"
   ]
  },
  {
   "cell_type": "code",
   "execution_count": 2,
   "metadata": {
    "scrolled": true
   },
   "outputs": [],
   "source": [
    "filenames = glob.glob(\"*.abc\")\n",
    "\n",
    "clean_tunes = []\n",
    "for filename in filenames:\n",
    "    with open(filename, \"rb\") as f:\n",
    "        binary = f.read()\n",
    "        raw_abc = binary.decode(\"utf-8\", \"replace\")\n",
    "        raw_tunes = raw_abc.split(\"X:\")\n",
    "        raw_tunes.pop(0) # remove header\n",
    "        raw_tunes = [tune.strip() for tune in raw_tunes]\n",
    "        # remove explicit newlines\n",
    "        raw_tunes = [tune.replace(\"/\\r\", \"\\r\").replace(\"!\\r\", \"\\r\").strip(\"!\") for tune in raw_tunes]\n",
    "        raw_tunes = [tune.splitlines()[1:] for tune in raw_tunes] # [1:] to remove tune number\n",
    "        \n",
    "        for tune in raw_tunes:\n",
    "            # gather metadata about meter, type and key\n",
    "            tune_meter, tune_type, tune_key = \"\", \"\", \"\"\n",
    "            for line in tune:\n",
    "                if line[:2] == \"M:\":\n",
    "                    tune_meter = line\n",
    "                elif line[:2] == \"R:\":\n",
    "                    tune_type = line\n",
    "                elif line[:2] == \"K:\":\n",
    "                    tune_key = line\n",
    "            \n",
    "            tune_meter = tune_meter.strip()\n",
    "            tune_type = tune_type.strip()\n",
    "            tune_key = tune_key.strip()\n",
    "            \n",
    "            # drop all lines containing metadata, leaving only the abc\n",
    "            tune = [line for line in tune if \":\" not in line[:2]]\n",
    "            just_abc = \" \".join(tune)\n",
    "            \n",
    "            # question: should we drop the tune_type field, since there's a lot of variation?\n",
    "            clean_tune = \"\\n\".join((tune_meter, tune_type, tune_key, just_abc))\n",
    "            \n",
    "            clean_tunes.append(clean_tune)"
   ]
  },
  {
   "cell_type": "code",
   "execution_count": 3,
   "metadata": {},
   "outputs": [
    {
     "name": "stdout",
     "output_type": "stream",
     "text": [
      "M:4/4\n",
      "R:Reel\n",
      "K:G\n",
      "edeg A2gf|edef g2fg|edeg A2ag|egdB BAA2|\\ edeg A2gf|edef g2fg|eage degd|egdB BAA2:||\\ aAA2 a2ge|dBde g2fg|aAA2 a2ge|dBeg BAA2|\\ aAA2 a2ge|dBde g2fg|eage degd|egdB BAA2:||\\ \n",
      "\n",
      "\n",
      "M:4/4\n",
      "R:Reel\n",
      "K:G\n",
      "GBde dBB2 | ABcd BGFG | E2cE D2BD | dBB2 AFEF | GBde dBB2 | ABcd BGFG |\\ E2cE D2BD | dBAB G4 :: g3d edBd | dgfd edBd | G3B dGBd |\\ gedB A4 | d3e dBB2 | ABcd BGFG | E2cE D2BD | dBAB G4 :| \n",
      "\n",
      "\n",
      "M:2/2\n",
      "R:Reel\n",
      "K:A\n",
      "AGAc B2cd|ecdB cABG|EAA2 BEed|cABG AECE|\\ (3ABA Ac B2cd|eAae cABG|EAA2 BEed|1 cABG A2CE:|2 cABG a2ce||\\ a2(3aga b3g|f2ga bgeg|abaf (3gag eg|fagb a2ce|\\ aec'a gabg|(3fgf ga bgeg|aec'a fdBd|cABG A2 ce:|| \n",
      "\n",
      "\n",
      "M:C\n",
      "R:Hornpipe\n",
      "K:F\n",
      "cB|A2F2 FAGF| EG B2 BdcB| Acde fcdB| A2 F2 F2 cB| A2F2 FAGF|! EG B2 BdcB |  Acde fcdB| A2 F2 F2:|  BA | Bcde fcdB A2 F2 F2|| \n",
      "\n",
      "\n",
      "M:3/4\n",
      "\n",
      "K:C\n",
      "E2 |A,2 A,2 C2|E2- D2 C2|E-C- B,4-|B,4 B,2|\\ D2 D2 F2|A2 G2 F2|A-F- E4-|E4 E2| A2 G2 F2|E4 E2|G2 F2 E2|D-A- A2 F2|\\ A2 A,2 C2|E2- C2 B,2|C-B,- A,4-|A,4 || \n",
      "\n",
      "\n",
      "M:6/8\n",
      "R:jig\n",
      "K:G\n",
      "D|GAB d2 B|dba g2d|ege ede|gdB AGE| GAB d2 B|dba g2d|ege edB|A3 G2:| [1bgb bgb|aga bag|ege edB|A3 G2:| [2GAB d2 B|dba g2d|ege edB|A3 G2|] \n",
      "\n",
      "\n",
      "M:C|\n",
      "R:reel\n",
      "K:D\n",
      "e|:f2df edBc|dBBA BAFA|1 ~B3d AFDE|FEED E2de:|2 ~B3d AFDF|EFGE FDFA|| d2dc dAFA|BABd cA~A2|BGAF GEFD|1 EFGE FDFA:|2 EFGE FDD|| \n",
      "\n",
      "\n",
      "M:4/4\n",
      "R:Reel\n",
      "K:A\n",
      "ed|\"A\"c2A2 ABAF|EFAB c2Bc|\"Bm\"d2B2 BcBA|Bcde \"E7\"f2ed| \"A\"c2A2 ABAF|EFAB c2Bc|\"Bm\"Bcde fgaf|\"E7\"edcB \"A\"A2:| \"A\"cAeA fAeA|cAea fedc|\"Bm\"Bcde fgaf|\"E7\"edcB \"A\"A2:| \n",
      "\n",
      "\n",
      "M:6/8\n",
      "R:Quadrille\n",
      "K:A\n",
      "d|c2Ac2d|f2cA2g|a2ef2d|cecB2e|c2Ac2d|!e2cA2g|a2ef2d|c3A2:| %B strain bar 5 not in MS,supposed mistake \n",
      "\n",
      "\n",
      "M:2/4\n",
      "\n",
      "K:Cm\n",
      "%%MIDI gchord fzfz |B,CDD|DDDD|EEED|FEED| B,CDD|DDDD|CB,CC|CCC2| |D2 DD| DDDD| E2 FE| |FE E2|D2 DD| DDDD| =A,/B,/C2 B,|C2 C2| |B,2 B,/C/D|EEEE|DDDD|DDCB,|B,2 B,/C/D|EEEE|FCCB,|C2 z2| \n",
      "\n",
      "\n"
     ]
    }
   ],
   "source": [
    "sample = random.sample(clean_tunes, 10)\n",
    "for tune in sample:\n",
    "    print(tune, \"\\n\\n\")"
   ]
  },
  {
   "cell_type": "code",
   "execution_count": null,
   "metadata": {},
   "outputs": [],
   "source": [
    " \"\"\"\n",
    "known issues:\n",
    "\n",
    "may need to add rule to filter out % symbols\n",
    "the data is still a bit messy, but putting it through ~/cleaning.ipynb might make it good enough\n",
    "the keys for many of the tunes are abbreviated, i.e. \"G\" or \"Gmaj\" rather than \"Gmajor\" etc.\n",
    " \"\"\""
   ]
  }
 ],
 "metadata": {
  "kernelspec": {
   "display_name": "Python 3",
   "language": "python",
   "name": "python3"
  },
  "language_info": {
   "codemirror_mode": {
    "name": "ipython",
    "version": 3
   },
   "file_extension": ".py",
   "mimetype": "text/x-python",
   "name": "python",
   "nbconvert_exporter": "python",
   "pygments_lexer": "ipython3",
   "version": "3.7.4"
  }
 },
 "nbformat": 4,
 "nbformat_minor": 5
}
