{
 "cells": [
  {
   "cell_type": "code",
   "execution_count": 1,
   "id": "7d99bf65",
   "metadata": {},
   "outputs": [],
   "source": [
    "from transformers import (\n",
    "    AutoTokenizer,\n",
    "    AutoModelForCausalLM\n",
    ")\n",
    "import time"
   ]
  },
  {
   "cell_type": "code",
   "execution_count": 2,
   "id": "ac944ac4",
   "metadata": {},
   "outputs": [],
   "source": [
    "# adjust these constants, then run entire notebook.\n",
    "\n",
    "path_to_model = \"./2021-07-19.1/results/checkpoint-19810\"\n",
    "\n",
    "test_parameters = {\n",
    "        'max_length': 128,\n",
    "        'temperature': 0.9,\n",
    "        'no_repeat_ngram_size': 4,\n",
    "        'do_sample': True,\n",
    "        'top_k': 50}\n",
    "\n",
    "test_prompts = [\n",
    "    \"a\",\n",
    "    \"G F G A G A |\"\n",
    "]"
   ]
  },
  {
   "cell_type": "code",
   "execution_count": 3,
   "id": "1d262115",
   "metadata": {},
   "outputs": [],
   "source": [
    "tokenizer = AutoTokenizer.from_pretrained(path_to_model)\n",
    "model = AutoModelForCausalLM.from_pretrained(path_to_model)"
   ]
  },
  {
   "cell_type": "code",
   "execution_count": 4,
   "id": "bbaae051",
   "metadata": {},
   "outputs": [],
   "source": [
    "def generate(start_text = \"a\", number = 6, parameters = test_parameters):\n",
    "    # encoding the input text\n",
    "    input_ids = tokenizer.encode(start_text, return_tensors='pt')\n",
    "    output = model.generate(input_ids, num_return_sequences = number, **parameters)\n",
    "    return output"
   ]
  },
  {
   "cell_type": "code",
   "execution_count": 7,
   "id": "07ca865a",
   "metadata": {},
   "outputs": [],
   "source": [
    "def test_suite(path = path_to_model,\n",
    "               parameters = test_parameters,\n",
    "               prompts = test_prompts):\n",
    "    \n",
    "    current_time = time.strftime(\"%Y-%m-%dt%H:%M:%S\", time.localtime())\n",
    "    filename = \"test_results/{t}.txt\".format(t = current_time)\n",
    "    print(\"running tests on model at {}\".format(path))\n",
    "    print(\"saving to {}\".format(filename))\n",
    "    \n",
    "    with open(filename, 'a') as file:\n",
    "        file.write('{}\\n\\n'.format(current_time))\n",
    "        file.write(\"path_to_model: {}\\n\\n\".format(path_to_model))\n",
    "        file.write(\"parameters:\\n\")\n",
    "        for p in parameters:\n",
    "            file.write(\"    {}: {}\\n\".format(p, parameters[p]))\n",
    "        \n",
    "        file.write(\"\\n=========\\n\\n\")\n",
    "        \n",
    "        test_count = 0\n",
    "        \n",
    "        for prompt in prompts:\n",
    "            \n",
    "            test_count += 1\n",
    "            print(\"running test {}: {}\".format(test_count, prompt))\n",
    "            file.write(\"test {}:\\n\".format(test_count))\n",
    "            file.write(\"prompt:\\n\")\n",
    "            file.write(\"{}\\n\\n\\n\".format(prompt))\n",
    "            \n",
    "            output = generate(prompt)\n",
    "            for setting in output:\n",
    "                file.write(tokenizer.decode(setting) + \"\\n\\n\")\n",
    "            \n",
    "            file.write(\"\\n---------\\n\\n\")"
   ]
  },
  {
   "cell_type": "code",
   "execution_count": 8,
   "id": "61461222",
   "metadata": {},
   "outputs": [
    {
     "name": "stderr",
     "output_type": "stream",
     "text": [
      "Setting `pad_token_id` to `eos_token_id`:2 for open-end generation.\n"
     ]
    },
    {
     "name": "stdout",
     "output_type": "stream",
     "text": [
      "running tests on model at ./2021-07-19.1/results/checkpoint-19810\n",
      "saving to test_results/2021-07-20t17:07:11.txt\n",
      "running test 1: a\n"
     ]
    },
    {
     "name": "stderr",
     "output_type": "stream",
     "text": [
      "Setting `pad_token_id` to `eos_token_id`:2 for open-end generation.\n"
     ]
    },
    {
     "name": "stdout",
     "output_type": "stream",
     "text": [
      "running test 2: G F G A G A |\n"
     ]
    }
   ],
   "source": [
    "test_suite()"
   ]
  }
 ],
 "metadata": {
  "kernelspec": {
   "display_name": "Python 3",
   "language": "python",
   "name": "python3"
  },
  "language_info": {
   "codemirror_mode": {
    "name": "ipython",
    "version": 3
   },
   "file_extension": ".py",
   "mimetype": "text/x-python",
   "name": "python",
   "nbconvert_exporter": "python",
   "pygments_lexer": "ipython3",
   "version": "3.9.4"
  }
 },
 "nbformat": 4,
 "nbformat_minor": 5
}
