{
 "cells": [
  {
   "cell_type": "code",
   "execution_count": 2,
   "metadata": {},
   "outputs": [],
   "source": [
    "from transformers import (\n",
    "    AutoTokenizer,\n",
    "    AutoModelForCausalLM\n",
    ")\n",
    "import time"
   ]
  },
  {
   "cell_type": "code",
   "execution_count": 10,
   "metadata": {},
   "outputs": [],
   "source": [
    "# adjust these constants, then run entire notebook.\n",
    "\n",
    "path_to_model = \"./2021-07-23.2/results/checkpoint-7500\""
   ]
  },
  {
   "cell_type": "code",
   "execution_count": 4,
   "metadata": {},
   "outputs": [],
   "source": [
    "test_parameters = {\n",
    "        'max_length': 128,\n",
    "        'temperature': 0.9,\n",
    "        'no_repeat_ngram_size': 4,\n",
    "        'do_sample': True,\n",
    "        'top_k': 50}\n",
    "\n",
    "test_prompts = [\n",
    "    \n",
    "    # single notes\n",
    "    \"G\",\n",
    "    \"e\",\n",
    "    \n",
    "    # drowsy maggie - Reel, Edor\n",
    "    \"\"\"R: reel\n",
    "M: 4/4\n",
    "K: Edor\n",
    "|: E2 B E d E B E |\"\"\",\n",
    "    \n",
    "    # kesh jig - Jig, Gmaj\n",
    "    \"\"\"R: jig\n",
    "M: 6/8\n",
    "K: Gmaj\n",
    "|: G3 G A B |\"\"\",\n",
    "    \n",
    "    # john ryan's - Polka, Dmaj \n",
    "    \"\"\"R: polka\n",
    "M: 2/4\n",
    "K: Dmaj\n",
    "d d B/ c/ d/ B/ |\"\"\",\n",
    "    \n",
    "    # king of the fairies - Hornpipe\n",
    "    \"\"\"R: hornpipe\n",
    "M: 4/4\n",
    "K: Edor\n",
    "|: B,2 | E D E F G F G A\"\"\",\n",
    "    \n",
    "    # inisheer - Waltz\n",
    "    \"\"\"R: waltz\n",
    "M: 3/4\n",
    "K: Gmaj\n",
    "B2 B A B d |\"\"\",\n",
    "    \n",
    "    # the butterfly - Slip Jig\n",
    "    \"\"\"R: slip jig\n",
    "M: 9/8\n",
    "K: Emin\n",
    "|: B2 E G2 E F3 |\"\"\",\n",
    "    \n",
    "    # banish misfortune - Dmix\n",
    "    \"\"\"R: jig\n",
    "M: 6/8\n",
    "K: Dmix\n",
    "f e d c A G |\"\"\",\n",
    "    \n",
    "    # tam lin - Dmin, low register\n",
    "    \"\"\"R: reel\n",
    "M: 4/4\n",
    "K: Dmin\n",
    "A,2 D A, F A, D A, |\"\"\",\n",
    "    \n",
    "    # cliffs of moher - Ador, high register\n",
    "    \"\"\"R: jig\n",
    "M: 6/8\n",
    "K: Adow\n",
    "|: a3 b a g |\"\"\",\n",
    "    \n",
    "    # silver spear - no closing barline\n",
    "    \"\"\"R: reel\n",
    "M: 4/4\n",
    "K: Dmaj\n",
    "A |: F A (3 A A A B A F A\"\"\",\n",
    "    \n",
    "    # unspecified tune types and meters\n",
    "    \"R: jig\",\n",
    "    \"R: reel\",\n",
    "    \"R: polka\",\n",
    "    \"R: waltz\",\n",
    "    \"R: hornpipe\",\n",
    "    \"R: slip jig\",\n",
    "    \"M: 4/4\",\n",
    "    \"M: 6/8\",\n",
    "    \"M: 3/4\",\n",
    "    \"M: 2/4\",\n",
    "    \"M: 9/8\"\n",
    "]"
   ]
  },
  {
   "cell_type": "code",
   "execution_count": 11,
   "metadata": {},
   "outputs": [],
   "source": [
    "tokenizer = AutoTokenizer.from_pretrained(path_to_model)\n",
    "model = AutoModelForCausalLM.from_pretrained(path_to_model)"
   ]
  },
  {
   "cell_type": "code",
   "execution_count": 12,
   "metadata": {},
   "outputs": [],
   "source": [
    "def generate(start_text = \"a\", number = 6, parameters = test_parameters):\n",
    "    # encoding the input text\n",
    "    input_ids = tokenizer.encode(start_text, return_tensors='pt')\n",
    "    output = model.generate(input_ids, num_return_sequences = number, **parameters)\n",
    "    return output"
   ]
  },
  {
   "cell_type": "code",
   "execution_count": 13,
   "metadata": {},
   "outputs": [],
   "source": [
    "def test_suite(path = path_to_model,\n",
    "               parameters = test_parameters,\n",
    "               prompts = test_prompts,\n",
    "               adjust_tabs = True):\n",
    "    \n",
    "    current_time = time.strftime(\"%Y-%m-%dt%H:%M:%S\", time.localtime())\n",
    "    filename = \"test_results/{t}.txt\".format(t = current_time)\n",
    "    print(\"running tests on model at {}\".format(path))\n",
    "    print(\"saving to {}\".format(filename))\n",
    "    \n",
    "    with open(filename, 'a') as file:\n",
    "        file.write('{}\\n\\n'.format(current_time))\n",
    "        file.write(\"path_to_model: {}\\n\\n\".format(path_to_model))\n",
    "        file.write(\"parameters:\\n\")\n",
    "        for p in parameters:\n",
    "            file.write(\"    {}: {}\\n\".format(p, parameters[p]))\n",
    "        \n",
    "        file.write(\"\\n=========\\n\\n\")\n",
    "        \n",
    "        test_count = 0\n",
    "        \n",
    "        for prompt in prompts:\n",
    "            test_count += 1\n",
    "            print(\"running test {}: {}\".format(test_count, prompt))\n",
    "            file.write(\"test {}:\\n\".format(test_count))\n",
    "            file.write(\"prompt:\\n\")\n",
    "            file.write(\"{}\\n\\n\\n\".format(prompt))\n",
    "            if adjust_tabs:\n",
    "                prompt = prompt.replace('\\n', '\\t')\n",
    "            output = generate(prompt)\n",
    "            for setting in output:\n",
    "                s = tokenizer.decode(setting)\n",
    "                if adjust_tabs:\n",
    "                    s = s.replace('\\t', '\\n')\n",
    "                file.write(s + \"\\n\\n\")\n",
    "            \n",
    "            file.write(\"\\n---------\\n\\n\")"
   ]
  },
  {
   "cell_type": "code",
   "execution_count": 14,
   "metadata": {},
   "outputs": [
    {
     "name": "stderr",
     "output_type": "stream",
     "text": [
      "Setting `pad_token_id` to `eos_token_id`:2 for open-end generation.\n"
     ]
    },
    {
     "name": "stdout",
     "output_type": "stream",
     "text": [
      "running tests on model at ./2021-07-23.2/results/checkpoint-7500\n",
      "saving to test_results/2021-07-23t13:25:33.txt\n",
      "running test 1: G\n"
     ]
    },
    {
     "name": "stderr",
     "output_type": "stream",
     "text": [
      "Setting `pad_token_id` to `eos_token_id`:2 for open-end generation.\n"
     ]
    },
    {
     "name": "stdout",
     "output_type": "stream",
     "text": [
      "running test 2: e\n"
     ]
    },
    {
     "name": "stderr",
     "output_type": "stream",
     "text": [
      "Setting `pad_token_id` to `eos_token_id`:2 for open-end generation.\n"
     ]
    },
    {
     "name": "stdout",
     "output_type": "stream",
     "text": [
      "running test 3: R: reel\n",
      "M: 4/4\n",
      "K: Edor\n",
      "|: E2 B E d E B E |\n"
     ]
    },
    {
     "name": "stderr",
     "output_type": "stream",
     "text": [
      "Setting `pad_token_id` to `eos_token_id`:2 for open-end generation.\n"
     ]
    },
    {
     "name": "stdout",
     "output_type": "stream",
     "text": [
      "running test 4: R: jig\n",
      "M: 6/8\n",
      "K: Gmaj\n",
      "|: G3 G A B |\n"
     ]
    },
    {
     "name": "stderr",
     "output_type": "stream",
     "text": [
      "Setting `pad_token_id` to `eos_token_id`:2 for open-end generation.\n"
     ]
    },
    {
     "name": "stdout",
     "output_type": "stream",
     "text": [
      "running test 5: R: polka\n",
      "M: 2/4\n",
      "K: Dmaj\n",
      "d d B/ c/ d/ B/ |\n"
     ]
    },
    {
     "name": "stderr",
     "output_type": "stream",
     "text": [
      "Setting `pad_token_id` to `eos_token_id`:2 for open-end generation.\n"
     ]
    },
    {
     "name": "stdout",
     "output_type": "stream",
     "text": [
      "running test 6: R: hornpipe\n",
      "M: 4/4\n",
      "K: Edor\n",
      "|: B,2 | E D E F G F G A\n"
     ]
    },
    {
     "name": "stderr",
     "output_type": "stream",
     "text": [
      "Setting `pad_token_id` to `eos_token_id`:2 for open-end generation.\n"
     ]
    },
    {
     "name": "stdout",
     "output_type": "stream",
     "text": [
      "running test 7: R: waltz\n",
      "M: 3/4\n",
      "K: Gmaj\n",
      "B2 B A B d |\n"
     ]
    },
    {
     "name": "stderr",
     "output_type": "stream",
     "text": [
      "Setting `pad_token_id` to `eos_token_id`:2 for open-end generation.\n"
     ]
    },
    {
     "name": "stdout",
     "output_type": "stream",
     "text": [
      "running test 8: R: slip jig\n",
      "M: 9/8\n",
      "K: Emin\n",
      "|: B2 E G2 E F3 |\n"
     ]
    },
    {
     "name": "stderr",
     "output_type": "stream",
     "text": [
      "Setting `pad_token_id` to `eos_token_id`:2 for open-end generation.\n"
     ]
    },
    {
     "name": "stdout",
     "output_type": "stream",
     "text": [
      "running test 9: R: jig\n",
      "M: 6/8\n",
      "K: Dmix\n",
      "f e d c A G |\n"
     ]
    },
    {
     "name": "stderr",
     "output_type": "stream",
     "text": [
      "Setting `pad_token_id` to `eos_token_id`:2 for open-end generation.\n"
     ]
    },
    {
     "name": "stdout",
     "output_type": "stream",
     "text": [
      "running test 10: R: reel\n",
      "M: 4/4\n",
      "K: Dmin\n",
      "A,2 D A, F A, D A, |\n"
     ]
    },
    {
     "name": "stderr",
     "output_type": "stream",
     "text": [
      "Setting `pad_token_id` to `eos_token_id`:2 for open-end generation.\n"
     ]
    },
    {
     "name": "stdout",
     "output_type": "stream",
     "text": [
      "running test 11: R: jig\n",
      "M: 6/8\n",
      "K: Adow\n",
      "|: a3 b a g |\n"
     ]
    },
    {
     "name": "stderr",
     "output_type": "stream",
     "text": [
      "Setting `pad_token_id` to `eos_token_id`:2 for open-end generation.\n"
     ]
    },
    {
     "name": "stdout",
     "output_type": "stream",
     "text": [
      "running test 12: R: reel\n",
      "M: 4/4\n",
      "K: Dmaj\n",
      "A |: F A (3 A A A B A F A\n"
     ]
    },
    {
     "name": "stderr",
     "output_type": "stream",
     "text": [
      "Setting `pad_token_id` to `eos_token_id`:2 for open-end generation.\n"
     ]
    },
    {
     "name": "stdout",
     "output_type": "stream",
     "text": [
      "running test 13: R: jig\n"
     ]
    },
    {
     "name": "stderr",
     "output_type": "stream",
     "text": [
      "Setting `pad_token_id` to `eos_token_id`:2 for open-end generation.\n"
     ]
    },
    {
     "name": "stdout",
     "output_type": "stream",
     "text": [
      "running test 14: R: reel\n"
     ]
    },
    {
     "name": "stderr",
     "output_type": "stream",
     "text": [
      "Setting `pad_token_id` to `eos_token_id`:2 for open-end generation.\n"
     ]
    },
    {
     "name": "stdout",
     "output_type": "stream",
     "text": [
      "running test 15: R: polka\n"
     ]
    },
    {
     "name": "stderr",
     "output_type": "stream",
     "text": [
      "Setting `pad_token_id` to `eos_token_id`:2 for open-end generation.\n"
     ]
    },
    {
     "name": "stdout",
     "output_type": "stream",
     "text": [
      "running test 16: R: waltz\n"
     ]
    },
    {
     "name": "stderr",
     "output_type": "stream",
     "text": [
      "Setting `pad_token_id` to `eos_token_id`:2 for open-end generation.\n"
     ]
    },
    {
     "name": "stdout",
     "output_type": "stream",
     "text": [
      "running test 17: R: hornpipe\n"
     ]
    },
    {
     "name": "stderr",
     "output_type": "stream",
     "text": [
      "Setting `pad_token_id` to `eos_token_id`:2 for open-end generation.\n"
     ]
    },
    {
     "name": "stdout",
     "output_type": "stream",
     "text": [
      "running test 18: R: slip jig\n"
     ]
    },
    {
     "name": "stderr",
     "output_type": "stream",
     "text": [
      "Setting `pad_token_id` to `eos_token_id`:2 for open-end generation.\n"
     ]
    },
    {
     "name": "stdout",
     "output_type": "stream",
     "text": [
      "running test 19: M: 4/4\n"
     ]
    },
    {
     "name": "stderr",
     "output_type": "stream",
     "text": [
      "Setting `pad_token_id` to `eos_token_id`:2 for open-end generation.\n"
     ]
    },
    {
     "name": "stdout",
     "output_type": "stream",
     "text": [
      "running test 20: M: 6/8\n"
     ]
    },
    {
     "name": "stderr",
     "output_type": "stream",
     "text": [
      "Setting `pad_token_id` to `eos_token_id`:2 for open-end generation.\n"
     ]
    },
    {
     "name": "stdout",
     "output_type": "stream",
     "text": [
      "running test 21: M: 3/4\n"
     ]
    },
    {
     "name": "stderr",
     "output_type": "stream",
     "text": [
      "Setting `pad_token_id` to `eos_token_id`:2 for open-end generation.\n"
     ]
    },
    {
     "name": "stdout",
     "output_type": "stream",
     "text": [
      "running test 22: M: 2/4\n"
     ]
    },
    {
     "name": "stderr",
     "output_type": "stream",
     "text": [
      "Setting `pad_token_id` to `eos_token_id`:2 for open-end generation.\n"
     ]
    },
    {
     "name": "stdout",
     "output_type": "stream",
     "text": [
      "running test 23: M: 9/8\n"
     ]
    }
   ],
   "source": [
    "test_suite(adjust_tabs=True)"
   ]
  },
  {
   "cell_type": "code",
   "execution_count": null,
   "metadata": {},
   "outputs": [],
   "source": [
    "output = generate('G A B A d d |')\n",
    "for x in output:\n",
    "    print(tokenizer.decode(x), '\\n')"
   ]
  }
 ],
 "metadata": {
  "kernelspec": {
   "display_name": "Python 3",
   "language": "python",
   "name": "python3"
  },
  "language_info": {
   "codemirror_mode": {
    "name": "ipython",
    "version": 3
   },
   "file_extension": ".py",
   "mimetype": "text/x-python",
   "name": "python",
   "nbconvert_exporter": "python",
   "pygments_lexer": "ipython3",
   "version": "3.7.4"
  }
 },
 "nbformat": 4,
 "nbformat_minor": 5
}
