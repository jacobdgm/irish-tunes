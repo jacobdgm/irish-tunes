{
 "cells": [
  {
   "cell_type": "code",
   "execution_count": 1,
   "metadata": {},
   "outputs": [],
   "source": [
    "import pandas as pd"
   ]
  },
  {
   "cell_type": "code",
   "execution_count": 2,
   "metadata": {},
   "outputs": [],
   "source": [
    "tunes = pd.read_json(\n",
    "    'tunes.json'\n",
    ")"
   ]
  },
  {
   "cell_type": "code",
   "execution_count": 3,
   "metadata": {},
   "outputs": [],
   "source": [
    "pd.set_option('display.max_rows', 2000)\n",
    "pd.set_option('display.max_columns', 500)\n",
    "pd.set_option('display.max_colwidth', 4000)"
   ]
  },
  {
   "cell_type": "code",
   "execution_count": 4,
   "metadata": {},
   "outputs": [
    {
     "data": {
      "text/plain": [
       "<bound method DataFrame.replace of        tune_id  setting_id                  name        type meter     mode  \\\n",
       "0        18105       35234        $150 Boot, The       polka   2/4   Gmajor   \n",
       "1        11931       11931  'G Iomain Nan Gamhna    slip jig   9/8   Gmajor   \n",
       "2        15326       28560         'S Ann An Ìle  strathspey   4/4   Gmajor   \n",
       "3        15326       28582         'S Ann An Ìle  strathspey   4/4   Gmajor   \n",
       "4        14625       26955      'S Daor An Tabac        reel   4/4   Bminor   \n",
       "...        ...         ...                   ...         ...   ...      ...   \n",
       "39149    13875       24924         Zuppa Inglese         jig   6/8   Gmajor   \n",
       "39150     6040        6040                Ølland       waltz   3/4   Gmajor   \n",
       "39151     6040       17944                Ølland       waltz   3/4  Ddorian   \n",
       "39152     6040       39239                Ølland       waltz   3/4  Adorian   \n",
       "39153     6040       39240                Ølland       waltz   3/4   Aminor   \n",
       "\n",
       "                                                                                                                                                                                                                                                                                                                                                                                         abc  \\\n",
       "0                                                                                                                                                                                                         |: d>g fe | dB AG | E/F/G E/F/G | BA GF |\\r\\nd>g fe | dB AG | E/F/G E/F/G | BA G2 :|\\r\\n|: e>f ga | ba gf | e/f/g e/f/g | d/c/B/A/ BA |\\r\\ne>f ga | ba gf | e/f/g e/f/g | ag g2 :|   \n",
       "1                                                                                                                                                        dBB B2 A BAG|dBB Bcd efg|dBB B2 A BAG| eAA dBG A2 e|\\r\\ndBB B2 A BAG|dBB Bcd efg|dBB B2 A BAG| eAA dBG A2 A|\\r\\nBAB g2 e fed|BAB e/f/g e f2 A|BAB g2 e fed|eAA ABd e2 A|\\r\\nBAB g2 e fed|BAB e/f/g e f2 f|def gfe fed |eAA ABd efg|   \n",
       "2                                                                                                                                                                                                                                   |: G>A B>G c>A B>G | E<E A>G F<D D2 | G>A B>G c>A B>G | E>A F>D G2 G2 :|\\r\\n|: D>D D>D (3DDD D>D | d>B A>B G<E E2 | D>D D>D (3DDD D>D | d>B A>B G2 G2 :|   \n",
       "3                                                                                                                                                               uD2|:{F}v[G,2G2]uB>ud c>A B>G|{D}E2 uA>uG F<D D>F|{F}[G,2G2]uB>ud c>A B>G|[1 E>A F<D {F}G2 uG>uD:|[2 E>A F<D {F}G2 (G>E)|\\r\\nD>D D>B, D>D D>(B|d>B) A>B G<E E>G|D>D D>B, D>D D>(B|[1 d>B) A<B {F}G2 G>E:|[2 d>B) A<B {F}G2||   \n",
       "4                                                                                                                                                                                                                                                         eAAB eABB|eAAB gedB|eAAB eABB|G2AB gedB:|\\r\\n~e3d efg2|~e3f gedB|~e3d efg2|G2AB gedB|\\r\\n~e3d efg2|~e3f gedB|efga geg2|GABG gedB||   \n",
       "...                                                                                                                                                                                                                                                                                                                                                                                      ...   \n",
       "39149  GAG GAB| cBc cde| d2B GAB| A2G E2D|\\r\\nGAG GAB| cBc cde| d2B GAB| A2A A3:|\\r\\ngdB fdA| ecG dBG| cAF BGD| DFA GBd|\\r\\ngdB fdA| ecG dBG| cAF BGD| DFA G3:|\\r\\nA3 B3| c3 ^c3|[fd][fd][fd] [g2d2][fd]| [g2d2][fd] z3|\\r\\nA3 B3| c3 ^c3|d2A F2A| D3 z3|\\r\\nA3 B3| c3 ^c3|[fd][fd][fd] [g2d2][fd]| [g2d2][fd] z3|\\r\\nA3 B3| [cG][cG][cG] [cG][cG][cG]|[cG][cG][cG] [cG][cG][cG]|[c2G2]z z3|   \n",
       "39150                                                                                                                                                                                                                                     AB |: c2 cd cB | A2 AB cd | e2 g2 f2 |1 e4 AB :|2 e4 e2||\\r\\n|: e2> c2 c2 |c2 ec eg | f2 d2 d2 | d2 d^c df |\\r\\ne3 dcB |A2>B2 c2 | B2 G2 G2 |A6 :|   \n",
       "39151                                                                                                                                                                                                                                                    F2 FG FE | D2 DE FG | A2 c2- cB | A4- :|\\rA2 FA FA | F2 AF Ac | B2 GB GB | G2 BG (3Bcd |\\rA2- AG FE | DE- E2 F2 | E2 C2- CC | D4 :|   \n",
       "39152                                                                   |:AB | c2 cd Bc | A3 B cd | e2 g2 f2 | e4 :|\\r\\nw:Var det du eller var det jag, som gick i valsen s{aa} bra?\\r\\n|: e2 | e2 c2 cc | c2 e2 g2 | f2 d2 dd |\\r\\nw:Vi super och vi rumlar, vi dansar och vi\\r\\nd2 f2 g2 | e3 d cB | A2 c2 cc | B2 G2 G2 | A4 :|\\r\\nw:tumlar och kom* sk\"ona flicka g{aa} i valsen med mej   \n",
       "39153                                                                                                                     AB |\"Am\"c2 cd \"G\"Bc |\"Am\"A3 B cd |\"Em\"e2 g2 \"D\"^f2 |\"Am\"e4 AB |\\r\\n\"Am\"c2 cd \"G\"Bc |\"F\"A3 B cd |\"C\"e2 g2 \"D\"^f2 |\"E\"e4 cd ||\\r\\n|:\"C\"e2 c2 ec |c2 ec eg |\"D\"^f2 d2 fd |\"Bm7\"d2 ^fd fg |\\r\\n\"Am\"e3/2^f/ ed cB |\"F\"A2 c2 cc |\"G\"B2 G2 G2 ||1 \"Am\"A4 e2 :|2 \"Am\"A4 |]   \n",
       "\n",
       "                     date           username  \n",
       "0     2019-07-06 04:39:09       NfldWhistler  \n",
       "1     2012-05-17 07:49:26       iliketurtles  \n",
       "2     2016-03-31 15:34:45          danninagh  \n",
       "3     2016-04-03 09:15:08            DonaldK  \n",
       "4     2015-07-31 02:47:47  Charles Mackenzie  \n",
       "...                   ...                ...  \n",
       "39149 2014-10-07 22:55:26        Edward Nunn  \n",
       "39150 2006-07-28 15:19:26             Kuddel  \n",
       "39151 2006-07-30 13:32:55          ceolachan  \n",
       "39152 2020-10-11 19:23:21         janglecrow  \n",
       "39153 2020-10-11 19:47:57              Bazza  \n",
       "\n",
       "[39154 rows x 9 columns]>"
      ]
     },
     "execution_count": 4,
     "metadata": {},
     "output_type": "execute_result"
    }
   ],
   "source": [
    "tunes.replace"
   ]
  },
  {
   "cell_type": "code",
   "execution_count": 5,
   "metadata": {},
   "outputs": [],
   "source": [
    "tunes = tunes.replace(regex=['\\\\r', '\\\\n'], value = '')\n"
   ]
  },
  {
   "cell_type": "code",
   "execution_count": 6,
   "metadata": {},
   "outputs": [
    {
     "ename": "TypeError",
     "evalue": "where() missing 1 required positional argument: 'cond'",
     "output_type": "error",
     "traceback": [
      "\u001b[0;31m---------------------------------------------------------------------------\u001b[0m",
      "\u001b[0;31mTypeError\u001b[0m                                 Traceback (most recent call last)",
      "\u001b[0;32m<ipython-input-6-414d35b6a06e>\u001b[0m in \u001b[0;36m<module>\u001b[0;34m\u001b[0m\n\u001b[0;32m----> 1\u001b[0;31m \u001b[0mtunes\u001b[0m\u001b[0;34m.\u001b[0m\u001b[0mwhere\u001b[0m\u001b[0;34m(\u001b[0m\u001b[0;34m)\u001b[0m\u001b[0;34m\u001b[0m\u001b[0;34m\u001b[0m\u001b[0m\n\u001b[0m",
      "\u001b[0;31mTypeError\u001b[0m: where() missing 1 required positional argument: 'cond'"
     ]
    }
   ],
   "source": [
    "tunes.where()"
   ]
  },
  {
   "cell_type": "code",
   "execution_count": null,
   "metadata": {},
   "outputs": [],
   "source": [
    "tunes.where(tunes['abc'].str.contains('w'))"
   ]
  },
  {
   "cell_type": "code",
   "execution_count": null,
   "metadata": {},
   "outputs": [],
   "source": []
  }
 ],
 "metadata": {
  "kernelspec": {
   "display_name": "Python 3",
   "language": "python",
   "name": "python3"
  },
  "language_info": {
   "codemirror_mode": {
    "name": "ipython",
    "version": 3
   },
   "file_extension": ".py",
   "mimetype": "text/x-python",
   "name": "python",
   "nbconvert_exporter": "python",
   "pygments_lexer": "ipython3",
   "version": "3.9.4"
  }
 },
 "nbformat": 4,
 "nbformat_minor": 4
}
