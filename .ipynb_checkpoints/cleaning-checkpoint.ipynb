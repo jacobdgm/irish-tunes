{
 "cells": [
  {
   "cell_type": "code",
   "execution_count": null,
   "id": "4c097cbb",
   "metadata": {},
   "outputs": [],
   "source": [
    "import pandas as pd\n",
    "\n",
    "pd.set_option('display.max_rows', 2000)\n",
    "pd.set_option('display.max_columns', 500)\n",
    "pd.set_option('display.max_colwidth', 500)\n",
    "\n",
    "raw_tunes = pd.read_json(\"tunes.json\")"
   ]
  },
  {
   "cell_type": "code",
   "execution_count": null,
   "id": "3b6c60a5",
   "metadata": {},
   "outputs": [],
   "source": [
    "# create new dataframe for cleaning tunes\n",
    "tunes = raw_tunes.copy(deep=True)\n",
    "\n",
    "print('initial length of tunes:', len(tunes))\n",
    "\n",
    "# remove line breaks\n",
    "tunes['abc'] = tunes['abc'].str.replace('\\n', '', regex=True)\n",
    "tunes['abc'] = tunes['abc'].str.replace('\\r', '', regex=True)\n",
    "\n",
    "# remove spaces\n",
    "tunes['abc'] = tunes['abc'].str.replace(' ', '', regex=True)\n",
    "\n",
    "tunes = tunes[~tunes.abc.str.contains('w:')]\n",
    "print('drop tunes with lyrics:', len(tunes))\n",
    "\n",
    "tunes = tunes[~tunes.abc.str.contains('z')]\n",
    "print('drop tunes with rests:', len(tunes))\n",
    "\n",
    "tunes = tunes[~tunes.abc.str.contains('!')]\n",
    "print('drop tunes with expression markings, codas etc.:', len(tunes))\n",
    "\n",
    "tunes = tunes[~tunes.abc.str.contains('[SOH]', regex=True)]\n",
    "print('drop tunes with dal segno, coda, fermata:', len(tunes))\n",
    "\n",
    "tunes = tunes[~tunes.abc.str.contains('\\[.{2,5}\\]', regex=True)]\n",
    "print('drop tunes with double stops:', len(tunes))\n",
    "\n",
    "tunes = tunes[~tunes.abc.str.contains('\\[3', regex=True)]\n",
    "tunes = tunes[~tunes.abc.str.contains('\\[4', regex=True)]\n",
    "print('drop tunes with third and fourth endings:', len(tunes))\n",
    "\n",
    "tunes = tunes[~tunes.abc.str.contains('[C-F],', regex=True)]\n",
    "tunes = tunes[~tunes.abc.str.contains('[A-G],,', regex=True)]\n",
    "print('drop tunes with notes lower than G,:', len(tunes))\n",
    "\n",
    "tunes = tunes[~tunes.abc.str.contains('[efgab]\\'', regex=True)]\n",
    "tunes = tunes[~tunes.abc.str.contains('[a-g]\\'\\'', regex=True)]\n",
    "print('drop tunes with notes higher than d\\':', len(tunes))\n",
    "\n",
    "tunes = tunes[~tunes.abc.str.contains('[A-G]\\'', regex=True)]\n",
    "tunes = tunes[~tunes.abc.str.contains('[a-g],', regex=True)]\n",
    "print('drop tunes with capital letters and apostrophes; lowercase letters and commas:', len(tunes))"
   ]
  },
  {
   "cell_type": "code",
   "execution_count": null,
   "id": "342caa4b",
   "metadata": {},
   "outputs": [],
   "source": [
    "### clean abc\n",
    "\n",
    "# remove up- and down-bows\n",
    "tunes['abc'] = tunes['abc'].str.replace('u', '', regex=True)\n",
    "tunes['abc'] = tunes['abc'].str.replace('v', '', regex=True)\n",
    "\n",
    "# remove chord symbols\n",
    "tunes['abc'] = tunes['abc'].str.replace('\".*?\"', '', regex=True)\n",
    "tunes = tunes[~tunes.abc.str.contains('\"', regex=True)]\n",
    "print('drop tunes with mismatched quotation marks:', len(tunes))\n",
    "\n",
    "# remove slurs, but protect triplet markings\n",
    "tunes['abc'] = tunes['abc'].str.replace('\\(3', 'TRIPLET', regex=True)\n",
    "tunes['abc'] = tunes['abc'].str.replace('\\(', '', regex=True)\n",
    "tunes['abc'] = tunes['abc'].str.replace('TRIPLET', '(3', regex=True)\n",
    "tunes['abc'] = tunes['abc'].str.replace('\\)', '', regex=True)\n",
    "\n",
    "\n",
    "## remove ornaments\n",
    "# remove turns, trills, accents, mordents, slides, rolls\n",
    "tunes['abc'] = tunes['abc'].str.replace('[~TLMPJR]', '', regex=True)\n",
    "\n",
    "# remove staccato\n",
    "tunes['abc'] = tunes['abc'].str.replace('.', '', regex=False)\n",
    "\n",
    "# remove grace notes\n",
    "tunes['abc'] = tunes['abc'].str.replace('\\{.*?\\}', '', regex=True)\n",
    "tunes = tunes[~tunes.abc.str.contains('\\}', regex=True)] # apparently, only unmatched closing braces exist in the dataset, not unmatched open braces\n",
    "print('drop tunes with mismatched curly braces:', len(tunes))"
   ]
  },
  {
   "cell_type": "code",
   "execution_count": null,
   "id": "75da683a",
   "metadata": {},
   "outputs": [],
   "source": [
    "def compare(setting_id: int):\n",
    "    print(\"raw:\\n\", raw_tunes.loc[raw_tunes['setting_id'] == setting_id]['abc'])\n",
    "    print(\"clean:\\n\", tunes.loc[tunes['setting_id'] == setting_id]['abc'])"
   ]
  },
  {
   "cell_type": "code",
   "execution_count": null,
   "id": "d6f586df",
   "metadata": {},
   "outputs": [],
   "source": [
    "# tunes.loc[tunes['abc'].str.contains('/2', regex=True)]"
   ]
  },
  {
   "cell_type": "code",
   "execution_count": null,
   "id": "7fa8f759",
   "metadata": {
    "scrolled": false
   },
   "outputs": [],
   "source": [
    "samp = tunes.sample(n=10)\n",
    "samp"
   ]
  },
  {
   "cell_type": "code",
   "execution_count": null,
   "id": "fd39d5f3",
   "metadata": {},
   "outputs": [],
   "source": [
    "# custom tokens for tokenization - in order, such that larger tokens are caught first (hopefully)\n",
    "\n",
    "accidentals = ['_', '=', '^', '']\n",
    "notes = ['G,', 'A,', 'B,', 'C', 'D', 'E', 'F', 'G', 'A', 'B', \"c'\", \"d'\", 'c', 'd', 'e', 'f', 'g', 'a', 'b']\n",
    "durations = ['/8', '/4', '/2', '/', '2', '3', '4', '5', '6', '7', '8', '9', '10', '11', '12', '13', '14', '15', '16', '']\n",
    "note_combs = [a + n + d for a in accidentals for n in notes for d in durations]\n",
    "\n",
    "# barlines and repeats\n",
    "barlines = [':||:', ':|:', '::', '|:', ':|', '[|', '|]', '[1', '[2', '|']\n",
    "tuplets = ['(3']\n",
    "duration_modifiers = ['>', '<']\n",
    "ties = ['-']\n",
    "\n",
    "custom_tokens = barlines + tuplets + duration_modifiers + ties + note_combs\n",
    "# NB - make sure to also add mode, meter values!"
   ]
  }
 ],
 "metadata": {
  "kernelspec": {
   "display_name": "Python 3",
   "language": "python",
   "name": "python3"
  },
  "language_info": {
   "codemirror_mode": {
    "name": "ipython",
    "version": 3
   },
   "file_extension": ".py",
   "mimetype": "text/x-python",
   "name": "python",
   "nbconvert_exporter": "python",
   "pygments_lexer": "ipython3",
   "version": "3.9.4"
  }
 },
 "nbformat": 4,
 "nbformat_minor": 5
}
