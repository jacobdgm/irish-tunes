{
 "cells": [
  {
   "cell_type": "code",
   "execution_count": null,
   "id": "4c097cbb",
   "metadata": {},
   "outputs": [],
   "source": [
    "import pandas as pd\n",
    "\n",
    "pd.set_option('display.max_rows', 2000)\n",
    "pd.set_option('display.max_columns', 500)\n",
    "pd.set_option('display.max_colwidth', 4000)"
   ]
  },
  {
   "cell_type": "code",
   "execution_count": null,
   "id": "ac2daa53",
   "metadata": {},
   "outputs": [],
   "source": [
    "raw_tunes = pd.read_json(\"tunes.json\")\n",
    "raw_tunes"
   ]
  },
  {
   "cell_type": "code",
   "execution_count": null,
   "id": "3b6c60a5",
   "metadata": {},
   "outputs": [],
   "source": [
    "print(len(raw_tunes))\n",
    "\n",
    "# create new dataframe for cleaning tunes\n",
    "tunes = raw_tunes.copy(deep=True)\n",
    "\n",
    "### drop rows\n",
    "# ...that include lyrics\n",
    "tunes = tunes[~tunes.abc.str.contains('w:')]\n",
    "print(len(tunes))\n",
    "\n",
    "# ...that include rests\n",
    "tunes = tunes[~tunes.abc.str.contains('z')]\n",
    "print(len(tunes))\n",
    "\n",
    "# ...that include up- or down-bows\n",
    "tunes = tunes[~tunes.abc.str.contains('u')]\n",
    "tunes = tunes[~tunes.abc.str.contains('v')]\n",
    "print(len(tunes))\n",
    "\n",
    "# ...that include double stops\n",
    "tunes = tunes[~tunes.abc.str.contains('\\[.*?\\]', regex=True)]\n",
    "print(len(tunes))\n"
   ]
  },
  {
   "cell_type": "code",
   "execution_count": null,
   "id": "8ddb578f",
   "metadata": {},
   "outputs": [],
   "source": [
    "### clean abc\n",
    "# remove line breaks\n",
    "tunes['abc'] = tunes['abc'].str.replace('\\n', '', regex=True)\n",
    "tunes['abc'] = tunes['abc'].str.replace('\\r', '', regex=True)\n",
    "\n",
    "# remove spaces\n",
    "tunes['abc'] = tunes['abc'].str.replace(' ', '', regex=True)\n",
    "\n",
    "## remove ornaments\n",
    "# remove turns\n",
    "tunes['abc'] = tunes['abc'].str.replace('~', '', regex=True)\n",
    "\n",
    "# remove grace notes\n",
    "tunes['abc'] = tunes['abc'].str.replace('\\{.*?\\}', '', regex=True)\n",
    "\n",
    "# remove chord symbols\n",
    "tunes['abc'] = tunes['abc'].str.replace('\".*?\"', '', regex=True)\n",
    "\n",
    "# remove slurs - or maybe just drop?\n",
    "tunes['abc'] = tunes['abc'].str.replace('\\(.*?\\)', '', regex=True)"
   ]
  },
  {
   "cell_type": "code",
   "execution_count": null,
   "id": "c3f3a748",
   "metadata": {},
   "outputs": [],
   "source": [
    "\n",
    "tunes.loc[tunes['abc'].str.contains('\\{.*?\\}', '', regex=True)]\n",
    "raw_tunes.loc[raw_tunes['abc'].str.contains('\\{.*?\\}', '', regex=True)]"
   ]
  },
  {
   "cell_type": "code",
   "execution_count": null,
   "id": "75da683a",
   "metadata": {},
   "outputs": [],
   "source": [
    "samp = tunes.sample(n=10)\n",
    "samp"
   ]
  },
  {
   "cell_type": "code",
   "execution_count": null,
   "id": "769b922b",
   "metadata": {},
   "outputs": [],
   "source": [
    "tunes.loc[tunes['setting_id'] == 28582]\n",
    "tunes.loc[tunes['abc'].str.contains('\"')]"
   ]
  },
  {
   "cell_type": "code",
   "execution_count": null,
   "id": "222c40c9",
   "metadata": {},
   "outputs": [],
   "source": [
    "tunes.loc[tunes['abc'].str.contains('\\(')]\n",
    "tunes.loc[tunes['abc'].str.contains('\\)')]"
   ]
  },
  {
   "cell_type": "code",
   "execution_count": null,
   "id": "a8a08277",
   "metadata": {},
   "outputs": [],
   "source": [
    "tunes.loc[tunes['abc'].str.contains('\\[')]\n",
    "tunes.loc[tunes['abc'].str.contains('\\]')]"
   ]
  },
  {
   "cell_type": "code",
   "execution_count": null,
   "id": "7b9701fa",
   "metadata": {},
   "outputs": [],
   "source": [
    "tunes.loc[tunes['abc'].str.contains('\\{')]\n",
    "tunes.loc[tunes['abc'].str.contains('\\}')]"
   ]
  }
 ],
 "metadata": {
  "kernelspec": {
   "display_name": "Python 3",
   "language": "python",
   "name": "python3"
  },
  "language_info": {
   "codemirror_mode": {
    "name": "ipython",
    "version": 3
   },
   "file_extension": ".py",
   "mimetype": "text/x-python",
   "name": "python",
   "nbconvert_exporter": "python",
   "pygments_lexer": "ipython3",
   "version": "3.9.4"
  }
 },
 "nbformat": 4,
 "nbformat_minor": 5
}
