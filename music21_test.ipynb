{
 "cells": [
  {
   "cell_type": "code",
   "execution_count": 5,
   "metadata": {},
   "outputs": [],
   "source": [
    "import pandas as pd\n",
    "\n",
    "pd.set_option('display.max_rows', 2000)\n",
    "pd.set_option('display.max_columns', 500)\n",
    "pd.set_option('display.max_colwidth', 500)\n",
    "\n",
    "raw_tunes = pd.read_json(\"data/raw_tunes.json\")"
   ]
  },
  {
   "cell_type": "code",
   "execution_count": 49,
   "metadata": {},
   "outputs": [
    {
     "name": "stdout",
     "output_type": "stream",
     "text": [
      "initial length of tunes: 39154\n"
     ]
    }
   ],
   "source": [
    "# create new dataframe for cleaning tunes\n",
    "tunes = raw_tunes.copy(deep=True)\n",
    "\n",
    "print('initial length of tunes:', len(tunes))\n",
    "\n",
    "# remove line breaks"
   ]
  },
  {
   "cell_type": "code",
   "execution_count": 6,
   "metadata": {},
   "outputs": [
    {
     "name": "stdout",
     "output_type": "stream",
     "text": [
      "initial length of tunes: 39154\n"
     ]
    }
   ],
   "source": [
    "tunes['abc'] = tunes['abc'].str.replace('\\n', '', regex=True)\n",
    "tunes['abc'] = tunes['abc'].str.replace('\\r', '', regex=True)\n",
    "\n",
    "# remove spaces\n",
    "tunes['abc'] = tunes['abc'].str.replace(' ', '', regex=True)"
   ]
  },
  {
   "cell_type": "code",
   "execution_count": 62,
   "metadata": {},
   "outputs": [],
   "source": [
    "tunes['combined'] = tunes.apply(lambda x: f\"R: {x['type']}\\nM: {x['meter']}\\nK: {x['mode']}\\n{x['abc']}\", axis=1)\n"
   ]
  },
  {
   "cell_type": "code",
   "execution_count": 63,
   "metadata": {},
   "outputs": [],
   "source": [
    "from music21.abcFormat import ABCFile"
   ]
  },
  {
   "cell_type": "code",
   "execution_count": 64,
   "metadata": {},
   "outputs": [],
   "source": [
    "lyrics = tunes[tunes.abc.str.contains('w:')]\n"
   ]
  },
  {
   "cell_type": "code",
   "execution_count": 78,
   "metadata": {},
   "outputs": [
    {
     "data": {
      "text/plain": [
       "tune_id                                                                                                                                                                                                                                                                                                                                                                                                                                                                                                                      7264\n",
       "setting_id                                                                                                                                                                                                                                                                                                                                                                                                                                                                                                                  25934\n",
       "name                                                                                                                                                                                                                                                                                                                                                                                                                                                                                                                Aisling Gheal\n",
       "type                                                                                                                                                                                                                                                                                                                                                                                                                                                                                                                        waltz\n",
       "meter                                                                                                                                                                                                                                                                                                                                                                                                                                                                                                                         3/4\n",
       "mode                                                                                                                                                                                                                                                                                                                                                                                                                                                                                                                       Dmajor\n",
       "abc           D-D ({E}F3G) ({A}B3{cB}A) A2 Hd4 (d3e) {e}.f2 ({d}e3{fe}d) Hd4|\\r\\nw:1.~O_ Ais-ling Gheal_ do shlad trim_ néal__ mé\\r\\nw:2.~Agus go rabhas i ngleann_ cois abhann i_ m'ao-__nar\\r\\n(d3{ed}.c) {G}A4 {E}HF4 (FJA3 {BA}F2) ({F}G3{AG}.F) ({D}E3{FE}D) HD8:|\\r\\nw:Is go rabhas-sa tréith_ lag le_ sceal im luí\\r\\nw:Is go raibhas ag ae_ ríoch le_ grá mo chroí\\r\\nA2A (c3d) ({d}e2f) {f}g3{ag}fz d2 ({d}e2{fe}d) (d3e) {e}Hf4|\\r\\nw:Go_ raibh na cam-_paí_ Gall_ agus Gae-_lach\\r\\nJA2 A>{B}A (d3e) ({e}f2-f {gf}e...\n",
       "date                                                                                                                                                                                                                                                                                                                                                                                                                                                                                                          2015-03-07 09:06:25\n",
       "username                                                                                                                                                                                                                                                                                                                                                                                                                                                                                                               stefanremy\n",
       "combined      R: waltz\\nM: 3/4\\nK: Dmajor\\nD-D ({E}F3G) ({A}B3{cB}A) A2 Hd4 (d3e) {e}.f2 ({d}e3{fe}d) Hd4|\\r\\nw:1.~O_ Ais-ling Gheal_ do shlad trim_ néal__ mé\\r\\nw:2.~Agus go rabhas i ngleann_ cois abhann i_ m'ao-__nar\\r\\n(d3{ed}.c) {G}A4 {E}HF4 (FJA3 {BA}F2) ({F}G3{AG}.F) ({D}E3{FE}D) HD8:|\\r\\nw:Is go rabhas-sa tréith_ lag le_ sceal im luí\\r\\nw:Is go raibhas ag ae_ ríoch le_ grá mo chroí\\r\\nA2A (c3d) ({d}e2f) {f}g3{ag}fz d2 ({d}e2{fe}d) (d3e) {e}Hf4|\\r\\nw:Go_ raibh na cam-_paí_ Gall_ agus Gae-_lach\\r\\nJA...\n",
       "Name: 703, dtype: object"
      ]
     },
     "execution_count": 78,
     "metadata": {},
     "output_type": "execute_result"
    }
   ],
   "source": [
    "lyrics.iloc[0]"
   ]
  },
  {
   "cell_type": "code",
   "execution_count": 66,
   "metadata": {},
   "outputs": [
    {
     "name": "stderr",
     "output_type": "stream",
     "text": [
      "abcFormat: WARNING: Could not get pitch information from note:  J, assuming C\n",
      "abcFormat: WARNING: Could not get pitch information from note:  J, assuming C\n",
      "abcFormat: WARNING: Could not get pitch information from note:  y5, assuming C\n",
      "abcFormat: WARNING: Could not get pitch information from note:  J, assuming C\n"
     ]
    }
   ],
   "source": [
    "file = ABCFile()\n",
    "handler = file.readstr(strSrc=lyrics.iloc[0].combined)"
   ]
  },
  {
   "cell_type": "code",
   "execution_count": 67,
   "metadata": {},
   "outputs": [
    {
     "ename": "NameError",
     "evalue": "name 'ABCMetadata' is not defined",
     "output_type": "error",
     "traceback": [
      "\u001b[0;31m---------------------------------------------------------------------------\u001b[0m",
      "\u001b[0;31mNameError\u001b[0m                                 Traceback (most recent call last)",
      "\u001b[0;32m<ipython-input-67-ce659845864a>\u001b[0m in \u001b[0;36m<module>\u001b[0;34m\u001b[0m\n\u001b[0;32m----> 1\u001b[0;31m \u001b[0mABCMetadata\u001b[0m\u001b[0;34m\u001b[0m\u001b[0;34m\u001b[0m\u001b[0m\n\u001b[0m",
      "\u001b[0;31mNameError\u001b[0m: name 'ABCMetadata' is not defined"
     ]
    }
   ],
   "source": [
    "handler.tokens\n",
    "    "
   ]
  },
  {
   "cell_type": "code",
   "execution_count": 73,
   "metadata": {},
   "outputs": [],
   "source": [
    "def parse_abc(abc):\n",
    "    file = ABCFile()\n",
    "    handler = file.readstr(strSrc=abc)\n",
    "    text = []\n",
    "    for token in handler.tokens:\n",
    "        text.append(token.src)\n",
    "    print(handler.tokens)\n",
    "    return ' '.join(text)"
   ]
  },
  {
   "cell_type": "code",
   "execution_count": 69,
   "metadata": {},
   "outputs": [],
   "source": [
    "#tunes = tunes[~tunes.abc.str.contains('z')]\n",
    "#print('drop tunes with rests:', len(tunes))\n",
    "\n",
    "voices = tunes[tunes.abc.str.contains('[vV]', regex=True)]\n",
    "markings = tunes[tunes.abc.str.contains('!')]\n",
    "italian_words = tunes[tunes.abc.str.contains('[SOH]', regex=True)]\n",
    "double_stops = tunes[tunes.abc.str.contains('\\[.{2,5}\\]', regex=True)]\n",
    "ending3 = tunes[tunes.abc.str.contains('\\[3', regex=True)]\n",
    "ending4 = tunes[tunes.abc.str.contains('\\[4', regex=True)]\n",
    "low1 = tunes[tunes.abc.str.contains('[C-F],', regex=True)]\n",
    "low2 = tunes[tunes.abc.str.contains('[A-G],,', regex=True)]\n",
    "high1 = tunes[tunes.abc.str.contains('[efgab]\\'', regex=True)]\n",
    "high2 = tunes[tunes.abc.str.contains('[a-g]\\'\\'', regex=True)]\n",
    "cap_apos = tunes[tunes.abc.str.contains('[A-G]\\'', regex=True)]\n",
    "low_com = tunes[tunes.abc.str.contains('[a-g],', regex=True)]\n",
    "key_change = tunes[tunes.abc.str.contains('K', regex=True)]\n"
   ]
  },
  {
   "cell_type": "code",
   "execution_count": 77,
   "metadata": {},
   "outputs": [
    {
     "name": "stdout",
     "output_type": "stream",
     "text": [
      "[<music21.abcFormat.ABCMetadata 'R: waltz'>, <music21.abcFormat.ABCMetadata 'M: 3/4'>, <music21.abcFormat.ABCMetadata 'K: Dmajor'>, <music21.abcFormat.ABCMetadata 'V:1'>, <music21.abcFormat.ABCBar '|:'>, <music21.abcFormat.ABCNote 'a'>, <music21.abcFormat.ABCNote 'g'>, <music21.abcFormat.ABCBar '|'>, <music21.abcFormat.ABCNote '\"D\"f2'>, <music21.abcFormat.ABCNote 'f'>, <music21.abcFormat.ABCNote 'g/'>, <music21.abcFormat.ABCNote 'f/'>, <music21.abcFormat.ABCNote '\"A7\"e'>, <music21.abcFormat.ABCNote 'f/'>, <music21.abcFormat.ABCNote 'e/'>, <music21.abcFormat.ABCBar '|'>, <music21.abcFormat.ABCNote '\"D\"d2'>, <music21.abcFormat.ABCNote 'A2'>, <music21.abcFormat.ABCNote 'd'>, <music21.abcFormat.ABCNote 'c'>, <music21.abcFormat.ABCBar '|'>, <music21.abcFormat.ABCNote '\"G\"B2'>, <music21.abcFormat.ABCNote 'g2'>, <music21.abcFormat.ABCNote '\"D\"f'>, <music21.abcFormat.ABCNote 'd'>, <music21.abcFormat.ABCBar '|'>, <music21.abcFormat.ABCNote '\"A\"e2'>, <music21.abcFormat.ABCNote 'e2'>, <music21.abcFormat.ABCNote 'f'>, <music21.abcFormat.ABCNote 'g'>, <music21.abcFormat.ABCBar '|'>, <music21.abcFormat.ABCMetadata 'V:2'>, <music21.abcFormat.ABCBar '|:'>, <music21.abcFormat.ABCNote 'f'>, <music21.abcFormat.ABCNote 'e'>, <music21.abcFormat.ABCBar '|'>, <music21.abcFormat.ABCNote 'd2'>, <music21.abcFormat.ABCNote 'd2'>, <music21.abcFormat.ABCNote 'A2'>, <music21.abcFormat.ABCBar '|'>, <music21.abcFormat.ABCNote 'F'>, <music21.abcFormat.ABCNote 'E'>, <music21.abcFormat.ABCNote 'F2'>, <music21.abcFormat.ABCNote 'F2'>, <music21.abcFormat.ABCBar '|'>, <music21.abcFormat.ABCNote 'G'>, <music21.abcFormat.ABCNote 'A'>, <music21.abcFormat.ABCNote 'B'>, <music21.abcFormat.ABCNote 'c'>, <music21.abcFormat.ABCNote 'd'>, <music21.abcFormat.ABCNote 'F'>, <music21.abcFormat.ABCBar '|'>, <music21.abcFormat.ABCNote 'A'>, <music21.abcFormat.ABCNote 'B'>, <music21.abcFormat.ABCNote 'c'>, <music21.abcFormat.ABCNote 'B'>, <music21.abcFormat.ABCNote 'A'>, <music21.abcFormat.ABCNote 'G'>, <music21.abcFormat.ABCBar '|'>, <music21.abcFormat.ABCMetadata 'V:1'>, <music21.abcFormat.ABCNote '\"D\"a2'>, <music21.abcFormat.ABCNote 'd2'>, <music21.abcFormat.ABCNote 'e'>, <music21.abcFormat.ABCNote 'f'>, <music21.abcFormat.ABCBar '|'>, <music21.abcFormat.ABCNote '\"G\"g2'>, <music21.abcFormat.ABCNote 'B2'>, <music21.abcFormat.ABCNote 'd'>, <music21.abcFormat.ABCNote 'e'>, <music21.abcFormat.ABCBar '|'>, <music21.abcFormat.ABCNote '\"D/A\"f2'>, <music21.abcFormat.ABCNote 'f'>, <music21.abcFormat.ABCNote 'g/'>, <music21.abcFormat.ABCNote 'f/'>, <music21.abcFormat.ABCNote '\"A\"e'>, <music21.abcFormat.ABCNote 'f/'>, <music21.abcFormat.ABCNote 'e/'>, <music21.abcFormat.ABCBar '|'>, <music21.abcFormat.ABCNote '\"D\"d2'>, <music21.abcFormat.ABCNote 'd2'>, <music21.abcFormat.ABCBar ':|'>, <music21.abcFormat.ABCBar '|'>, <music21.abcFormat.ABCMetadata 'V:2'>, <music21.abcFormat.ABCNote 'F'>, <music21.abcFormat.ABCNote 'E'>, <music21.abcFormat.ABCNote 'F'>, <music21.abcFormat.ABCNote 'A'>, <music21.abcFormat.ABCNote 'c'>, <music21.abcFormat.ABCNote 'd'>, <music21.abcFormat.ABCBar '|'>, <music21.abcFormat.ABCNote 'B'>, <music21.abcFormat.ABCNote 'A'>, <music21.abcFormat.ABCNote 'G'>, <music21.abcFormat.ABCNote 'E'>, <music21.abcFormat.ABCNote 'F'>, <music21.abcFormat.ABCNote 'G'>, <music21.abcFormat.ABCBar '|'>, <music21.abcFormat.ABCNote 'A'>, <music21.abcFormat.ABCNote 'd'>, <music21.abcFormat.ABCNote 'A2'>, <music21.abcFormat.ABCNote 'G2'>, <music21.abcFormat.ABCBar '|'>, <music21.abcFormat.ABCNote 'F2'>, <music21.abcFormat.ABCNote 'F2'>, <music21.abcFormat.ABCBar ':|'>, <music21.abcFormat.ABCBar '|'>, <music21.abcFormat.ABCMetadata 'V:1'>, <music21.abcFormat.ABCBar '|:'>, <music21.abcFormat.ABCNote 'c'>, <music21.abcFormat.ABCNote 'd'>, <music21.abcFormat.ABCBar '|'>, <music21.abcFormat.ABCNote '\"A7\"e2'>, <music21.abcFormat.ABCNote 'A2'>, <music21.abcFormat.ABCNote 'd'>, <music21.abcFormat.ABCNote 'e'>, <music21.abcFormat.ABCBar '|'>, <music21.abcFormat.ABCNote '\"D\"f2'>, <music21.abcFormat.ABCNote 'd2'>, <music21.abcFormat.ABCNote 'f'>, <music21.abcFormat.ABCNote 'g'>, <music21.abcFormat.ABCBar '|'>, <music21.abcFormat.ABCNote '\"D\"a2'>, <music21.abcFormat.ABCNote 'a'>, <music21.abcFormat.ABCNote 'f'>, <music21.abcFormat.ABCNote '\"G\"g'>, <music21.abcFormat.ABCNote 'f'>, <music21.abcFormat.ABCBar '|'>, <music21.abcFormat.ABCNote '\"A\"e2'>, <music21.abcFormat.ABCNote 'e2'>, <music21.abcFormat.ABCNote 'f'>, <music21.abcFormat.ABCNote 'g'>, <music21.abcFormat.ABCBar '|'>, <music21.abcFormat.ABCMetadata 'V:2'>, <music21.abcFormat.ABCBar '|:'>, <music21.abcFormat.ABCNote 'E'>, <music21.abcFormat.ABCNote 'F'>, <music21.abcFormat.ABCBar '|'>, <music21.abcFormat.ABCNote 'G'>, <music21.abcFormat.ABCNote 'F'>, <music21.abcFormat.ABCNote 'G2'>, <music21.abcFormat.ABCNote 'F'>, <music21.abcFormat.ABCNote 'G'>, <music21.abcFormat.ABCBar '|'>, <music21.abcFormat.ABCNote 'A'>, <music21.abcFormat.ABCNote 'G'>, <music21.abcFormat.ABCNote 'F2'>, <music21.abcFormat.ABCNote 'A'>, <music21.abcFormat.ABCNote 'G'>, <music21.abcFormat.ABCBar '|'>, <music21.abcFormat.ABCNote 'F'>, <music21.abcFormat.ABCNote 'E'>, <music21.abcFormat.ABCNote 'F'>, <music21.abcFormat.ABCNote 'A'>, <music21.abcFormat.ABCNote 'B'>, <music21.abcFormat.ABCNote 'd'>, <music21.abcFormat.ABCBar '|'>, <music21.abcFormat.ABCNote 'A'>, <music21.abcFormat.ABCNote 'B'>, <music21.abcFormat.ABCNote 'c'>, <music21.abcFormat.ABCNote 'B'>, <music21.abcFormat.ABCNote 'A'>, <music21.abcFormat.ABCNote 'G'>, <music21.abcFormat.ABCBar '|'>, <music21.abcFormat.ABCMetadata 'V:1'>, <music21.abcFormat.ABCNote '\"D\"a2'>, <music21.abcFormat.ABCNote 'd2'>, <music21.abcFormat.ABCNote 'e'>, <music21.abcFormat.ABCNote 'f'>, <music21.abcFormat.ABCBar '|'>, <music21.abcFormat.ABCNote '\"G\"g2'>, <music21.abcFormat.ABCNote 'B2'>, <music21.abcFormat.ABCNote 'd'>, <music21.abcFormat.ABCNote 'e'>, <music21.abcFormat.ABCBar '|'>, <music21.abcFormat.ABCNote '\"D/A\"f2'>, <music21.abcFormat.ABCNote 'f'>, <music21.abcFormat.ABCNote 'g/'>, <music21.abcFormat.ABCNote 'f/'>, <music21.abcFormat.ABCNote '\"A7\"e'>, <music21.abcFormat.ABCNote 'f/'>, <music21.abcFormat.ABCNote 'e/'>, <music21.abcFormat.ABCBar '|'>, <music21.abcFormat.ABCNote '\"D\"d2'>, <music21.abcFormat.ABCNote 'd2'>, <music21.abcFormat.ABCBar ':|'>, <music21.abcFormat.ABCBar '|'>, <music21.abcFormat.ABCMetadata 'V:2'>, <music21.abcFormat.ABCNote 'F'>, <music21.abcFormat.ABCNote 'E'>, <music21.abcFormat.ABCNote 'F'>, <music21.abcFormat.ABCNote 'A'>, <music21.abcFormat.ABCNote 'c'>, <music21.abcFormat.ABCNote 'd'>, <music21.abcFormat.ABCBar '|'>, <music21.abcFormat.ABCNote 'B'>, <music21.abcFormat.ABCNote 'A'>, <music21.abcFormat.ABCNote 'G'>, <music21.abcFormat.ABCNote 'E'>, <music21.abcFormat.ABCNote 'F'>, <music21.abcFormat.ABCNote 'G'>, <music21.abcFormat.ABCBar '|'>, <music21.abcFormat.ABCNote 'A'>, <music21.abcFormat.ABCNote 'd'>, <music21.abcFormat.ABCNote 'A2'>, <music21.abcFormat.ABCNote 'G2'>, <music21.abcFormat.ABCBar '|'>, <music21.abcFormat.ABCNote 'F2'>, <music21.abcFormat.ABCNote 'F2'>, <music21.abcFormat.ABCBar ':|'>, <music21.abcFormat.ABCBar '|'>]\n"
     ]
    },
    {
     "data": {
      "text/plain": [
       "'R: waltz M: 3/4 K: Dmajor V:1 |: a g | \"D\"f2 f g/ f/ \"A7\"e f/ e/ | \"D\"d2 A2 d c | \"G\"B2 g2 \"D\"f d | \"A\"e2 e2 f g | V:2 |: f e | d2 d2 A2 | F E F2 F2 | G A B c d F | A B c B A G | V:1 \"D\"a2 d2 e f | \"G\"g2 B2 d e | \"D/A\"f2 f g/ f/ \"A\"e f/ e/ | \"D\"d2 d2 :| | V:2 F E F A c d | B A G E F G | A d A2 G2 | F2 F2 :| | V:1 |: c d | \"A7\"e2 A2 d e | \"D\"f2 d2 f g | \"D\"a2 a f \"G\"g f | \"A\"e2 e2 f g | V:2 |: E F | G F G2 F G | A G F2 A G | F E F A B d | A B c B A G | V:1 \"D\"a2 d2 e f | \"G\"g2 B2 d e | \"D/A\"f2 f g/ f/ \"A7\"e f/ e/ | \"D\"d2 d2 :| | V:2 F E F A c d | B A G E F G | A d A2 G2 | F2 F2 :| |'"
      ]
     },
     "execution_count": 77,
     "metadata": {},
     "output_type": "execute_result"
    }
   ],
   "source": [
    "parse_abc(voices.iloc[2].combined)"
   ]
  },
  {
   "cell_type": "code",
   "execution_count": 76,
   "metadata": {},
   "outputs": [],
   "source": [
    "file = ABCFile()\n",
    "handler = file.readstr(strSrc=lyrics.iloc[1].combined)"
   ]
  },
  {
   "cell_type": "code",
   "execution_count": 4,
   "metadata": {},
   "outputs": [
    {
     "name": "stdout",
     "output_type": "stream",
     "text": [
      "drop tunes with mismatched quotation marks: 32380\n",
      "drop tunes with mismatched curly braces: 32373\n"
     ]
    }
   ],
   "source": [
    "### clean abc\n",
    "\n",
    "# remove up- and down-bows\n",
    "tunes['abc'] = tunes.abc.str.contains('u', regex=True)\n",
    "tunes['abc'] = tunes.abc.str.contains('v', regex=True)\n",
    "\n",
    "# remove chord symbols\n",
    "tunes['abc'] = tunes['abc'].str.replace('\".*?\"', '', regex=True)\n",
    "tunes = tunes[~tunes.abc.str.contains('\"', regex=True)]\n",
    "print('drop tunes with mismatched quotation marks:', len(tunes))\n",
    "\n",
    "# remove slurs, but protect triplet markings\n",
    "tunes['abc'] = tunes['abc'].str.replace('\\(3', 'TRIPLET', regex=True)\n",
    "tunes['abc'] = tunes['abc'].str.replace('\\(', '', regex=True)\n",
    "tunes['abc'] = tunes['abc'].str.replace('TRIPLET', '(3', regex=True)\n",
    "tunes['abc'] = tunes['abc'].str.replace('\\)', '', regex=True)\n",
    "\n",
    "\n",
    "## remove ornaments\n",
    "# remove turns, trills, accents, mordents, slides, rolls\n",
    "tunes['abc'] = tunes['abc'].str.replace('[~TLMPJR]', '', regex=True)\n",
    "\n",
    "# remove staccato\n",
    "tunes['abc'] = tunes['abc'].str.replace('.', '', regex=False)\n",
    "\n",
    "# remove grace notes\n",
    "tunes['abc'] = tunes['abc'].str.replace('\\{.*?\\}', '', regex=True)\n",
    "tunes = tunes[~tunes.abc.str.contains('\\}', regex=True)] # apparently, only unmatched closing braces exist in the dataset, not unmatched open braces\n",
    "print('drop tunes with mismatched curly braces:', len(tunes))"
   ]
  },
  {
   "cell_type": "code",
   "execution_count": 5,
   "metadata": {},
   "outputs": [],
   "source": [
    "def compare(setting_id: int):\n",
    "    print(\"raw:\\n\", raw_tunes.loc[raw_tunes['setting_id'] == setting_id]['abc'])\n",
    "    print(\"clean:\\n\", tunes.loc[tunes['setting_id'] == setting_id]['abc'])"
   ]
  },
  {
   "cell_type": "code",
   "execution_count": 6,
   "metadata": {},
   "outputs": [],
   "source": [
    "# tunes.loc[tunes['abc'].str.contains('/2', regex=True)]"
   ]
  },
  {
   "cell_type": "code",
   "execution_count": 7,
   "metadata": {},
   "outputs": [],
   "source": [
    "samples = tunes.sample(n=10)['abc'].to_list()"
   ]
  },
  {
   "cell_type": "code",
   "execution_count": 8,
   "metadata": {},
   "outputs": [],
   "source": [
    "# custom tokens for tokenization - in order, such that larger tokens are caught first (hopefully)\n",
    "\n",
    "accidentals = ['_', '=', '^', '']\n",
    "notes = ['G,', 'A,', 'B,', 'C', 'D', 'E', 'F', 'G', 'A', 'B', \"c'\", \"d'\", 'c', 'd', 'e', 'f', 'g', 'a', 'b']\n",
    "durations = ['/8', '/4', '/2', '/', '3/2', '2', '3', '4', '5', '6', '7', '8', '9', '10', '11', '12', '13', '14', '15', '16', '']\n",
    "note_combs = [a + n + d for a in accidentals for n in notes for d in durations]\n",
    "\n",
    "# barlines and repeats\n",
    "barlines = [':||:', ':|:', '::', '|:', ':|', '[|', '|]', '[1', '[2', '|', '1', '2']\n",
    "tuplets = ['(3']\n",
    "duration_modifiers = ['>', '<']\n",
    "ties = ['-']\n",
    "\n",
    "custom_tokens = barlines + tuplets + duration_modifiers + ties + note_combs\n",
    "# NB - make sure to also add mode, meter values!\n",
    "\n"
   ]
  },
  {
   "cell_type": "code",
   "execution_count": 9,
   "metadata": {},
   "outputs": [],
   "source": [
    "token_set = set(custom_tokens)\n",
    "\n",
    "def tokenize(notes):\n",
    "    notes = notes\n",
    "    tokens = []\n",
    "    start = 0\n",
    "    #stop = 0\n",
    "    while start < len(notes):\n",
    "        found_token = False\n",
    "        for i in range(4, 0, -1):\n",
    "            stop = start + i\n",
    "            if notes[start:stop] in token_set:\n",
    "                tokens.append(notes[start:stop])\n",
    "                start = stop\n",
    "                found_token = True\n",
    "                break\n",
    "        if not found_token:\n",
    "            #print('error found')\n",
    "            return ' '.join(tokens) + ' tokenization error: ' + notes[start:]\n",
    "\n",
    "    return ' '.join(tokens)"
   ]
  },
  {
   "cell_type": "code",
   "execution_count": 10,
   "metadata": {},
   "outputs": [],
   "source": [
    "tunes['tokenized'] = tunes['abc'].apply(lambda x: tokenize(x))"
   ]
  },
  {
   "cell_type": "code",
   "execution_count": 12,
   "metadata": {},
   "outputs": [],
   "source": [
    "errors = tunes[tunes.tokenized.str.contains('error', regex=True)]"
   ]
  },
  {
   "cell_type": "code",
   "execution_count": 20,
   "metadata": {},
   "outputs": [
    {
     "data": {
      "text/plain": [
       "Index(['tune_id', 'setting_id', 'name', 'type', 'meter', 'mode', 'abc', 'date',\n",
       "       'username', 'tokenized'],\n",
       "      dtype='object')"
      ]
     },
     "execution_count": 20,
     "metadata": {},
     "output_type": "execute_result"
    }
   ],
   "source": [
    "valid.columns"
   ]
  },
  {
   "cell_type": "code",
   "execution_count": 53,
   "metadata": {},
   "outputs": [],
   "source": [
    "tunes['combined'] = tunes.apply(lambda x: f\"R: {x['type']}\\tM: {x['meter']}\\tK: {x['mode']}\\t{x['tokenized']}\", axis=1)"
   ]
  },
  {
   "cell_type": "code",
   "execution_count": 50,
   "metadata": {},
   "outputs": [],
   "source": [
    "valid = tunes[~tunes.tokenized.str.contains('error', regex=True)]"
   ]
  },
  {
   "cell_type": "code",
   "execution_count": 51,
   "metadata": {},
   "outputs": [
    {
     "name": "stdout",
     "output_type": "stream",
     "text": [
      "R: polka\tM: 2/4\tK: Gmajor\t|: d > g f e | d B A G | E/ F/ G E/ F/ G | B A G F | d > g f e | d B A G | E/ F/ G E/ F/ G | B A G2 :||: e > f g a | b a g f | e/ f/ g e/ f/ g | d/ c/ B/ A/ B A | e > f g a | b a g f | e/ f/ g e/ f/ g | a g g2 :|\t\n"
     ]
    }
   ],
   "source": [
    "print(tunes['combined'][0])"
   ]
  },
  {
   "cell_type": "code",
   "execution_count": 33,
   "metadata": {},
   "outputs": [
    {
     "data": {
      "text/plain": [
       "Index(['tune_id', 'setting_id', 'name', 'type', 'meter', 'mode', 'abc', 'date',\n",
       "       'username', 'tokenized', 'combined'],\n",
       "      dtype='object')"
      ]
     },
     "execution_count": 33,
     "metadata": {},
     "output_type": "execute_result"
    }
   ],
   "source": [
    "valid.columns"
   ]
  },
  {
   "cell_type": "code",
   "execution_count": null,
   "metadata": {},
   "outputs": [],
   "source": [
    "lambda x: f\"R:{x['type']}\\n M:{x['meter']}\\n K:{x['mode']}\\n {x['abc']}\\n\""
   ]
  },
  {
   "cell_type": "code",
   "execution_count": 54,
   "metadata": {},
   "outputs": [],
   "source": [
    "valid['combined'].to_csv(path_or_buf='2021_07_20_tokenized_tunes.txt', sep = '.', index=False, header=False, quoting=csv.QUOTE_NONE)"
   ]
  },
  {
   "cell_type": "code",
   "execution_count": null,
   "metadata": {},
   "outputs": [],
   "source": [
    "# we should feed the tunes into the model in the following format:\n",
    "\n",
    "\"\"\"\n",
    "X: <setting_id>\n",
    "R: <type>\n",
    "M: <meter>\n",
    "K: <mode>\n",
    "<abc>\n",
    "/n\n",
    "\"\"\""
   ]
  },
  {
   "cell_type": "code",
   "execution_count": null,
   "metadata": {},
   "outputs": [],
   "source": []
  }
 ],
 "metadata": {
  "kernelspec": {
   "display_name": "Python 3",
   "language": "python",
   "name": "python3"
  },
  "language_info": {
   "codemirror_mode": {
    "name": "ipython",
    "version": 3
   },
   "file_extension": ".py",
   "mimetype": "text/x-python",
   "name": "python",
   "nbconvert_exporter": "python",
   "pygments_lexer": "ipython3",
   "version": "3.7.4"
  }
 },
 "nbformat": 4,
 "nbformat_minor": 5
}
